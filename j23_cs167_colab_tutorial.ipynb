{
  "nbformat": 4,
  "nbformat_minor": 0,
  "metadata": {
    "colab": {
      "provenance": [],
      "authorship_tag": "ABX9TyPKvbk2oAGdRKG5OVXN8wTf",
      "include_colab_link": true
    },
    "kernelspec": {
      "name": "python3",
      "display_name": "Python 3"
    },
    "language_info": {
      "name": "python"
    }
  },
  "cells": [
    {
      "cell_type": "markdown",
      "metadata": {
        "id": "view-in-github",
        "colab_type": "text"
      },
      "source": [
        "<a href=\"https://colab.research.google.com/github/20aclaypool/Notes/blob/main/j23_cs167_colab_tutorial.ipynb\" target=\"_parent\"><img src=\"https://colab.research.google.com/assets/colab-badge.svg\" alt=\"Open In Colab\"/></a>"
      ]
    },
    {
      "cell_type": "markdown",
      "source": [
        "# Colab Tutorial\n",
        "\n",
        "Jan 3rd, 2023\n",
        "\n",
        "You can run Python code in Colab. Use the short cut shift + return\n",
        "\n",
        "Markdown basics:\n",
        "- **bold text**, also __Bold Text__\n",
        "- *italicized*, also _italicized_\n",
        "- [Something linky](www.google.com)\n",
        "  - new level of indent\n",
        "\n",
        "---\n",
        "markdown table geneterator- use in need of table then copy in\n",
        "does not run in order! runs with in order of what run buttons i click"
      ],
      "metadata": {
        "id": "lL_3o5AJh4hI"
      }
    },
    {
      "cell_type": "code",
      "source": [
        "x = 3 + 2\n",
        "print (x);"
      ],
      "metadata": {
        "colab": {
          "base_uri": "https://localhost:8080/"
        },
        "id": "0n45-db2iGlx",
        "outputId": "4c0d9d7c-3da9-41f0-fd6c-64bda4b33303"
      },
      "execution_count": 8,
      "outputs": [
        {
          "output_type": "stream",
          "name": "stdout",
          "text": [
            "5\n"
          ]
        }
      ]
    },
    {
      "cell_type": "code",
      "source": [
        "def my_func(x, y):\n",
        "  print(x - y)"
      ],
      "metadata": {
        "id": "AJ0FWBTOiLHK"
      },
      "execution_count": 11,
      "outputs": []
    },
    {
      "cell_type": "code",
      "source": [
        "x"
      ],
      "metadata": {
        "colab": {
          "base_uri": "https://localhost:8080/"
        },
        "id": "sbbmVh-MkFBl",
        "outputId": "3379566e-86b2-4466-fd29-addc6938c343"
      },
      "execution_count": 9,
      "outputs": [
        {
          "output_type": "execute_result",
          "data": {
            "text/plain": [
              "5"
            ]
          },
          "metadata": {},
          "execution_count": 9
        }
      ]
    },
    {
      "cell_type": "code",
      "source": [
        "my_func(1, 5)"
      ],
      "metadata": {
        "colab": {
          "base_uri": "https://localhost:8080/"
        },
        "id": "PQBiKN3IkYCs",
        "outputId": "c42c292f-f96b-4863-c85f-67027001ea69"
      },
      "execution_count": 12,
      "outputs": [
        {
          "output_type": "stream",
          "name": "stdout",
          "text": [
            "-4\n"
          ]
        }
      ]
    }
  ]
}