{
  "nbformat": 4,
  "nbformat_minor": 0,
  "metadata": {
    "colab": {
      "provenance": [],
      "authorship_tag": "ABX9TyMNn4WjbKSFrGntHgdRZzpr",
      "include_colab_link": true
    },
    "kernelspec": {
      "name": "python3",
      "display_name": "Python 3"
    },
    "language_info": {
      "name": "python"
    }
  },
  "cells": [
    {
      "cell_type": "markdown",
      "metadata": {
        "id": "view-in-github",
        "colab_type": "text"
      },
      "source": [
        "<a href=\"https://colab.research.google.com/github/20aclaypool/Notes/blob/main/Day1_P2_Notes.ipynb\" target=\"_parent\"><img src=\"https://colab.research.google.com/assets/colab-badge.svg\" alt=\"Open In Colab\"/></a>"
      ]
    },
    {
      "cell_type": "markdown",
      "source": [
        "# CS 167 Machine Learning\n",
        "## Day 01 Part 2 exercises\n",
        "note that each of these segments should be run in a different cell within an iPython Notebook"
      ],
      "metadata": {
        "id": "BEZrEwD-mHzH"
      }
    },
    {
      "cell_type": "code",
      "source": [
        "a = 10\n",
        "b = 3.14\n",
        "c = \"machine learning\"\n",
        "d = 'hi'\n",
        "e = 'x'\n",
        "f = [1,2,3]\n",
        "print(a,b,c,d,e,f)"
      ],
      "metadata": {
        "colab": {
          "base_uri": "https://localhost:8080/"
        },
        "id": "1ZTs4kwNmTF-",
        "outputId": "fdabc9a1-31d3-4287-e9bf-8496a64c8ae8"
      },
      "execution_count": 2,
      "outputs": [
        {
          "output_type": "stream",
          "name": "stdout",
          "text": [
            "10 3.14 machine learning hi x [1, 2, 3]\n"
          ]
        }
      ]
    },
    {
      "cell_type": "code",
      "source": [
        "print(\"a's type:\", type(a))\n",
        "a = 'variables can change types'\n",
        "print(\"a's type:\", type(a))\n",
        "print(type(b))\n",
        "print(type(c))\n",
        "print(type(d))\n",
        "print(type(e))\n",
        "print(type(f))"
      ],
      "metadata": {
        "colab": {
          "base_uri": "https://localhost:8080/"
        },
        "id": "es-wqmZpmept",
        "outputId": "df4aa14b-66cc-4f89-e7ab-ee0552bceb63"
      },
      "execution_count": 3,
      "outputs": [
        {
          "output_type": "stream",
          "name": "stdout",
          "text": [
            "a's type: <class 'int'>\n",
            "a's type: <class 'str'>\n",
            "<class 'float'>\n",
            "<class 'str'>\n",
            "<class 'str'>\n",
            "<class 'str'>\n",
            "<class 'list'>\n"
          ]
        }
      ]
    },
    {
      "cell_type": "markdown",
      "source": [
        "I think y[0] will be 1"
      ],
      "metadata": {
        "id": "NpJxyBHzmmeY"
      }
    },
    {
      "cell_type": "code",
      "source": [
        "x = [1,2,3] \n",
        "y=x\n",
        "x[0] = \"abc\" \n",
        "print(y) "
      ],
      "metadata": {
        "colab": {
          "base_uri": "https://localhost:8080/"
        },
        "id": "PmA6AC-Smyv0",
        "outputId": "5b80c276-77a9-4314-b218-60af62b764ea"
      },
      "execution_count": 4,
      "outputs": [
        {
          "output_type": "stream",
          "name": "stdout",
          "text": [
            "['abc', 2, 3]\n"
          ]
        }
      ]
    },
    {
      "cell_type": "markdown",
      "source": [
        "I did not think that x changing x[0] would affect y[0]\n"
      ],
      "metadata": {
        "id": "_kbZ5x86m4hD"
      }
    },
    {
      "cell_type": "markdown",
      "source": [
        "print(x) will be ['abc', 'what', 3]\n",
        "print(z) will be 'what' since z = x[1]\n",
        "print(x) will be ['abc', 'what', 90, 3, 70]"
      ],
      "metadata": {
        "id": "sAOIWmaVnMNg"
      }
    },
    {
      "cell_type": "code",
      "source": [
        "z = x[1]\n",
        "x[1] = \"what\"\n",
        "print(x)\n",
        "print(z)\n",
        "x.append(70)\n",
        "x.insert(2,90)\n",
        "print(x)"
      ],
      "metadata": {
        "colab": {
          "base_uri": "https://localhost:8080/"
        },
        "id": "6iq0WLoGnpY3",
        "outputId": "99ac92d2-526d-4e5f-f1a3-0458172627d8"
      },
      "execution_count": 5,
      "outputs": [
        {
          "output_type": "stream",
          "name": "stdout",
          "text": [
            "['abc', 'what', 3]\n",
            "2\n",
            "['abc', 'what', 90, 3, 70]\n"
          ]
        }
      ]
    },
    {
      "cell_type": "markdown",
      "source": [
        "So when x changes a value with the array it does not change z since it is set to the orginial value within the array"
      ],
      "metadata": {
        "id": "vkIaePZPoEVp"
      }
    },
    {
      "cell_type": "markdown",
      "source": [
        "print( x.index(90) ) = 2 b/c it starts at 0\n",
        "\n",
        "print( len(x) ) = 5 b/c it counts all values\n",
        "\n",
        "print( x+x ) = ['abcabc', 'whatwhat', 180, 6, 140]"
      ],
      "metadata": {
        "id": "0eV5PANkoT2f"
      }
    },
    {
      "cell_type": "code",
      "source": [
        "print( x.index(90) )\n",
        "print( len(x) )\n",
        "print( x+x )"
      ],
      "metadata": {
        "colab": {
          "base_uri": "https://localhost:8080/"
        },
        "id": "n9x_A4bko1lz",
        "outputId": "79a183a1-1287-4b9c-a84e-d6a5a7fe4110"
      },
      "execution_count": 6,
      "outputs": [
        {
          "output_type": "stream",
          "name": "stdout",
          "text": [
            "2\n",
            "5\n",
            "['abc', 'what', 90, 3, 70, 'abc', 'what', 90, 3, 70]\n"
          ]
        }
      ]
    },
    {
      "cell_type": "markdown",
      "source": [
        "print( x+x ) appends x to the end of x"
      ],
      "metadata": {
        "id": "nAxKVzp2o80T"
      }
    },
    {
      "cell_type": "code",
      "source": [
        "#List Slices \n",
        "\n",
        "my_list = [33, 55, 'hello','R2D2',7.8,'banana']\n",
        "print( my_list[1:5] )\n",
        "print( my_list[:4])\n",
        "print( my_list[4:])\n",
        "print( my_list[:])"
      ],
      "metadata": {
        "colab": {
          "base_uri": "https://localhost:8080/"
        },
        "id": "I61VKuXLpDPh",
        "outputId": "8e2ef780-61cf-4746-884a-2bcffd12bbdb"
      },
      "execution_count": 7,
      "outputs": [
        {
          "output_type": "stream",
          "name": "stdout",
          "text": [
            "[55, 'hello', 'R2D2', 7.8]\n",
            "[33, 55, 'hello', 'R2D2']\n",
            "[7.8, 'banana']\n",
            "[33, 55, 'hello', 'R2D2', 7.8, 'banana']\n"
          ]
        }
      ]
    },
    {
      "cell_type": "code",
      "source": [
        "my_slice = my_list[1:5]\n",
        "my_slice[2] = 'what'\n",
        "print(my_slice)\n",
        "print(my_list)\n",
        "print(my_list[1:5] + 2*['Drake','University'])\n",
        "my_list[:0] = ['Bulldogs']\n",
        "print(my_list)"
      ],
      "metadata": {
        "colab": {
          "base_uri": "https://localhost:8080/"
        },
        "id": "bLFUvtg8pL0W",
        "outputId": "731c5f6e-2616-4efc-b5d5-7429d6b6ba29"
      },
      "execution_count": 8,
      "outputs": [
        {
          "output_type": "stream",
          "name": "stdout",
          "text": [
            "[55, 'hello', 'what', 7.8]\n",
            "[33, 55, 'hello', 'R2D2', 7.8, 'banana']\n",
            "[55, 'hello', 'R2D2', 7.8, 'Drake', 'University', 'Drake', 'University']\n",
            "['Bulldogs', 33, 55, 'hello', 'R2D2', 7.8, 'banana']\n"
          ]
        }
      ]
    },
    {
      "cell_type": "markdown",
      "source": [
        "'Drake' or 'University' is not printout in the last line because it was not appended to the variable my_slice"
      ],
      "metadata": {
        "id": "sQz85yYWpP9-"
      }
    },
    {
      "cell_type": "code",
      "source": [
        "my_list = [42, 3.14, 'hello', ['ice', 'ice', 'baby']]\n",
        "print(my_list[3][2])\n",
        "print(my_list[2][1])"
      ],
      "metadata": {
        "colab": {
          "base_uri": "https://localhost:8080/"
        },
        "id": "z9CR9dkrpkaL",
        "outputId": "8ab505ed-0991-44f6-c8e1-bc5bf3e7f371"
      },
      "execution_count": 9,
      "outputs": [
        {
          "output_type": "stream",
          "name": "stdout",
          "text": [
            "baby\n",
            "e\n"
          ]
        }
      ]
    },
    {
      "cell_type": "markdown",
      "source": [
        "print(my_list[3][2]) goings into the array to index 3 which is another array. therefore it goes to the index 2 inside that array which is the string 'baby'\n",
        "\n",
        "print(my_list[2][1]) goings into the array at the index of 2 which is a string so it goes to the index 1 of the string which is the char 'e'"
      ],
      "metadata": {
        "id": "gPz8O0v1pn6z"
      }
    },
    {
      "cell_type": "code",
      "source": [
        "# In Python, a tuple is a collection which is ordered andÃ‚Â unchangeable. \n",
        "# In Python tuples are written with round brackets.\n",
        "\n",
        "my_tuple = (100,200,'300')\n",
        "print(my_tuple[1])\n",
        "my_dictionary = {'x':42, 'y':3.14}\n",
        "print(my_dictionary['x'])"
      ],
      "metadata": {
        "colab": {
          "base_uri": "https://localhost:8080/"
        },
        "id": "4-5QfD59qW9s",
        "outputId": "60a91f08-0baf-49ee-eab8-c5346421544c"
      },
      "execution_count": 12,
      "outputs": [
        {
          "output_type": "stream",
          "name": "stdout",
          "text": [
            "200\n",
            "42\n"
          ]
        }
      ]
    },
    {
      "cell_type": "markdown",
      "source": [
        "i think print(my_list[1][2])  will cause an error b/c we have not ran it in a little while"
      ],
      "metadata": {
        "id": "2tdPlcebqkB2"
      }
    },
    {
      "cell_type": "code",
      "source": [
        "print(my_list[1][2])"
      ],
      "metadata": {
        "colab": {
          "base_uri": "https://localhost:8080/",
          "height": 165
        },
        "id": "DjQJExTzrhqC",
        "outputId": "9aa16f9f-10f0-49ab-ed69-e3dcf8827306"
      },
      "execution_count": 17,
      "outputs": [
        {
          "output_type": "error",
          "ename": "TypeError",
          "evalue": "ignored",
          "traceback": [
            "\u001b[0;31m---------------------------------------------------------------------------\u001b[0m",
            "\u001b[0;31mTypeError\u001b[0m                                 Traceback (most recent call last)",
            "\u001b[0;32m<ipython-input-17-32a7aecaa6df>\u001b[0m in \u001b[0;36m<module>\u001b[0;34m\u001b[0m\n\u001b[0;32m----> 1\u001b[0;31m \u001b[0mprint\u001b[0m\u001b[0;34m(\u001b[0m\u001b[0mmy_list\u001b[0m\u001b[0;34m[\u001b[0m\u001b[0;36m1\u001b[0m\u001b[0;34m]\u001b[0m\u001b[0;34m[\u001b[0m\u001b[0;36m2\u001b[0m\u001b[0;34m]\u001b[0m\u001b[0;34m)\u001b[0m\u001b[0;34m\u001b[0m\u001b[0;34m\u001b[0m\u001b[0m\n\u001b[0m",
            "\u001b[0;31mTypeError\u001b[0m: 'float' object is not subscriptable"
          ]
        }
      ]
    },
    {
      "cell_type": "code",
      "source": [
        "my_tuple[1] = 0"
      ],
      "metadata": {
        "colab": {
          "base_uri": "https://localhost:8080/",
          "height": 165
        },
        "id": "ygm-4hxzrevk",
        "outputId": "37566aab-b65f-4ca8-8460-16fb2650bd60"
      },
      "execution_count": 16,
      "outputs": [
        {
          "output_type": "error",
          "ename": "TypeError",
          "evalue": "ignored",
          "traceback": [
            "\u001b[0;31m---------------------------------------------------------------------------\u001b[0m",
            "\u001b[0;31mTypeError\u001b[0m                                 Traceback (most recent call last)",
            "\u001b[0;32m<ipython-input-16-ca10015bb24b>\u001b[0m in \u001b[0;36m<module>\u001b[0;34m\u001b[0m\n\u001b[0;32m----> 1\u001b[0;31m \u001b[0mmy_tuple\u001b[0m\u001b[0;34m[\u001b[0m\u001b[0;36m1\u001b[0m\u001b[0;34m]\u001b[0m \u001b[0;34m=\u001b[0m \u001b[0;36m0\u001b[0m\u001b[0;34m\u001b[0m\u001b[0;34m\u001b[0m\u001b[0m\n\u001b[0m",
            "\u001b[0;31mTypeError\u001b[0m: 'tuple' object does not support item assignment"
          ]
        }
      ]
    },
    {
      "cell_type": "code",
      "source": [
        "print(my_dictionary[1])"
      ],
      "metadata": {
        "colab": {
          "base_uri": "https://localhost:8080/",
          "height": 165
        },
        "id": "8kJmqZMkq293",
        "outputId": "5fc8fb96-adfd-472f-fd45-08a1a8007f8f"
      },
      "execution_count": 15,
      "outputs": [
        {
          "output_type": "error",
          "ename": "KeyError",
          "evalue": "ignored",
          "traceback": [
            "\u001b[0;31m---------------------------------------------------------------------------\u001b[0m",
            "\u001b[0;31mKeyError\u001b[0m                                  Traceback (most recent call last)",
            "\u001b[0;32m<ipython-input-15-68554dc379e3>\u001b[0m in \u001b[0;36m<module>\u001b[0;34m\u001b[0m\n\u001b[0;32m----> 1\u001b[0;31m \u001b[0mprint\u001b[0m\u001b[0;34m(\u001b[0m\u001b[0mmy_dictionary\u001b[0m\u001b[0;34m[\u001b[0m\u001b[0;36m1\u001b[0m\u001b[0;34m]\u001b[0m\u001b[0;34m)\u001b[0m\u001b[0;34m\u001b[0m\u001b[0;34m\u001b[0m\u001b[0m\n\u001b[0m",
            "\u001b[0;31mKeyError\u001b[0m: 1"
          ]
        }
      ]
    },
    {
      "cell_type": "code",
      "source": [
        "x = int(input())\n",
        "if x < 0:\n",
        "    print(\"x is negative\")\n",
        "elif x % 2:\n",
        "    print(\"x is positive and odd\")\n",
        "else:\n",
        "    print(\"x is even and nonnegative\")\n",
        "\n",
        "num_list = [3, 7, 9,17, 2]\n",
        "for num in num_list:\n",
        "    print(num)\n",
        "\n",
        "print(range(10,20))\n",
        "for n in range(10,20):\n",
        "    print(n)"
      ],
      "metadata": {
        "colab": {
          "base_uri": "https://localhost:8080/"
        },
        "id": "UcPfZgZwrwyi",
        "outputId": "551a3635-4969-4b81-9530-ce9c76f57645"
      },
      "execution_count": 20,
      "outputs": [
        {
          "output_type": "stream",
          "name": "stdout",
          "text": [
            "-3\n",
            "x is negative\n",
            "3\n",
            "7\n",
            "9\n",
            "17\n",
            "2\n",
            "range(10, 20)\n",
            "10\n",
            "11\n",
            "12\n",
            "13\n",
            "14\n",
            "15\n",
            "16\n",
            "17\n",
            "18\n",
            "19\n"
          ]
        }
      ]
    },
    {
      "cell_type": "code",
      "source": [
        "# iterating Through Data\n",
        "my_data = [5.3, 3.2, 4.1, 5.9, 6.7, 3.5]\n",
        "# method 1\n",
        "for element in my_data:\n",
        "    print(element)\n",
        "\n",
        "# method 2\n",
        "for idx in range(len(my_data)):\n",
        "    print(my_data[idx])"
      ],
      "metadata": {
        "colab": {
          "base_uri": "https://localhost:8080/"
        },
        "id": "xnl3yGEpsD_x",
        "outputId": "a4b173f8-36f2-4f19-d297-365af6bd5ad6"
      },
      "execution_count": 21,
      "outputs": [
        {
          "output_type": "stream",
          "name": "stdout",
          "text": [
            "5.3\n",
            "3.2\n",
            "4.1\n",
            "5.9\n",
            "6.7\n",
            "3.5\n",
            "5.3\n",
            "3.2\n",
            "4.1\n",
            "5.9\n",
            "6.7\n",
            "3.5\n"
          ]
        }
      ]
    },
    {
      "cell_type": "code",
      "source": [
        "# Explain why these won't work:\n",
        "my_data = [5.3, 3.2, 4.1, 5.9, 6.7, 3.5]\n",
        "for i in my_data:\n",
        "    print( my_data[i] )\n",
        "\n",
        "for i in range(len(my_data)):\n",
        "    print( i )\n",
        "\n",
        "for i in range(my_data):\n",
        "    print( my_data[i] )"
      ],
      "metadata": {
        "id": "tCVQvkqTsO0O"
      },
      "execution_count": null,
      "outputs": []
    },
    {
      "cell_type": "markdown",
      "source": [
        "The code above will not work b/c the first for loop should be:\n",
        "\n",
        "for i in my_data:\n",
        "\n",
        "  print( i )\n",
        "\n",
        "The second and third for loop should be:\n",
        "\n",
        "range(len(my_data)):\n",
        "\n",
        "  print( my_data[i] )\n"
      ],
      "metadata": {
        "id": "FI5tpLdtsPsx"
      }
    }
  ]
}